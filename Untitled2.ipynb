{
  "nbformat": 4,
  "nbformat_minor": 0,
  "metadata": {
    "colab": {
      "name": "Untitled2.ipynb",
      "provenance": [],
      "authorship_tag": "ABX9TyPixlek+Sw8wGi8V2l2V6jG",
      "include_colab_link": true
    },
    "kernelspec": {
      "name": "python3",
      "display_name": "Python 3"
    }
  },
  "cells": [
    {
      "cell_type": "markdown",
      "metadata": {
        "id": "view-in-github",
        "colab_type": "text"
      },
      "source": [
        "<a href=\"https://colab.research.google.com/github/pulungnola/Pulungnolab_pemogramanpython/blob/main/Untitled2.ipynb\" target=\"_parent\"><img src=\"https://colab.research.google.com/assets/colab-badge.svg\" alt=\"Open In Colab\"/></a>"
      ]
    },
    {
      "cell_type": "code",
      "metadata": {
        "id": "PhlF7xb0YHDG"
      },
      "source": [
        "import numpy as np"
      ],
      "execution_count": 4,
      "outputs": []
    },
    {
      "cell_type": "code",
      "metadata": {
        "id": "67V-t0E8YgdA"
      },
      "source": [
        "def C1(z) : \r\n",
        "    if z >= 400 and z <= 1500 :\r\n",
        "        return 69.55\r\n",
        "    elif z > 1500 and z <= 2000 :\r\n",
        "        return 46.3\r\n"
      ],
      "execution_count": 5,
      "outputs": []
    },
    {
      "cell_type": "code",
      "metadata": {
        "id": "8vALgsYNYxAK"
      },
      "source": [
        "def C2(z) : \r\n",
        "    if z >= 400 and z <= 1500 :\r\n",
        "        return 26.16\r\n",
        "    elif z > 1500 and z <= 2000 :\r\n",
        "        return 33.9\r\n"
      ],
      "execution_count": 6,
      "outputs": []
    },
    {
      "cell_type": "code",
      "metadata": {
        "id": "Fv1dycdlZWvg"
      },
      "source": [
        "def a(z, o) : \r\n",
        "    return (((1.1*np.log10(z))-0.7)*o) - ((1.56*np.log10(z))-0.8)\r\n"
      ],
      "execution_count": 7,
      "outputs": []
    },
    {
      "cell_type": "code",
      "metadata": {
        "id": "nRuk-AEDZkGA"
      },
      "source": [
        "def Cm(type, z) : \r\n",
        "    if type == 1 :\r\n",
        "        return 0\r\n",
        "    elif type == 2 :\r\n",
        "        return (-2*((np.log10(z/28))**2))-54\r\n",
        "    else :\r\n",
        "        return (-4.78*((np.log10(z))**2))+(18.33*np.log10(z))-40.94\r\n"
      ],
      "execution_count": 8,
      "outputs": []
    },
    {
      "cell_type": "code",
      "metadata": {
        "id": "eCslbWl9Zz6P"
      },
      "source": [
        "def PathLoss(d,f,Type_Cm,hT,hR) :\r\n",
        "  return C1(f)+(C2(f)*np.log10(f))-(13.83*np.log10(hT))-a(hR, f)+((44.9-(6.55*np.log10(hT)))*np.log10(d))+Cm(Type_Cm, f)\r\n"
      ],
      "execution_count": 9,
      "outputs": []
    },
    {
      "cell_type": "code",
      "metadata": {
        "colab": {
          "base_uri": "https://localhost:8080/"
        },
        "id": "SJVHYwNUZ1DT",
        "outputId": "26abad3d-d22c-4d45-b180-9d75e9103f95"
      },
      "source": [
        "PL=PathLoss(1000,1000,2,49,24)\r\n",
        "print(\"Pathloss dalam db =\",PL,\"dB\")\r\n"
      ],
      "execution_count": 10,
      "outputs": [
        {
          "output_type": "stream",
          "text": [
            "Pathloss dalam db = -649.559637464301 dB\n"
          ],
          "name": "stdout"
        }
      ]
    }
  ]
}